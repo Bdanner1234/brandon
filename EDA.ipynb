{
 "cells": [
  {
   "cell_type": "code",
   "execution_count": 39,
   "metadata": {},
   "outputs": [],
   "source": [
    "import streamlit as st\n",
    "import numpy as np\n",
    "import pandas as pd\n",
    "import plotly.express as px\n",
    "import seaborn as sns\n",
    "from matplotlib import pyplot as plt\n",
    "import plotly.graph_objects as go\n",
    "df = pd.read_csv('./vehicles_us.csv')"
   ]
  },
  {
   "cell_type": "code",
   "execution_count": 40,
   "metadata": {},
   "outputs": [],
   "source": [
    "# Analyzing Different Trends about Different Vehicle Types and Much more\n",
    "# In this project I am taking a dataset about many types of vehicles and models and analyzing the different trends when compared to other outside factors. The other factors include the odometer, the model, the model year, the type of vehicle, the price, as well as some other factors. "
   ]
  },
  {
   "cell_type": "code",
   "execution_count": 41,
   "metadata": {},
   "outputs": [],
   "source": [
    "# Group the data by 'model' and calculate the median 'model_year' for each group\n",
    "median_years = df.groupby('model')['model_year'].transform('median')\n",
    "\n",
    "# Fill the missing values in 'model_year' with the median year for each 'model'\n",
    "df.fillna({'model_year': median_years}, inplace=True)"
   ]
  },
  {
   "cell_type": "code",
   "execution_count": 42,
   "metadata": {},
   "outputs": [],
   "source": [
    "# Fill missing values in 'cylinders' by grouping by 'model'\n",
    "cylinder_medians = df.groupby('model')['cylinders'].transform('median')\n",
    "df.fillna({'cylinders': cylinder_medians}, inplace=True)\n",
    "# Fill missing values in 'odometer' by grouping by 'model' and 'model_year'\n",
    "# Using median or mean as specified\n",
    "odometer_means = df.groupby(['model', 'model_year'])['odometer'].transform('mean')\n",
    "df.fillna({'odometer': odometer_means}, inplace=True)"
   ]
  },
  {
   "cell_type": "code",
   "execution_count": 44,
   "metadata": {},
   "outputs": [],
   "source": [
    "# Function to remove outliers based on the IQR method\n",
    "def remove_outliers(df, column):\n",
    "    Q1 = df[column].quantile(0.25)\n",
    "    Q3 = df[column].quantile(0.75)\n",
    "    IQR = Q3 - Q1\n",
    "    lower_bound = Q1 - 1.5 * IQR\n",
    "    upper_bound = Q3 + 1.5 * IQR\n",
    "    return df[(df[column] >= lower_bound) & (df[column] <= upper_bound)]\n",
    "\n",
    "# Remove outliers from 'model_year' and 'price'\n",
    "data_cleaned = remove_outliers(df, 'model_year')\n",
    "data_cleaned = remove_outliers(data_cleaned, 'price')"
   ]
  },
  {
   "cell_type": "code",
   "execution_count": 36,
   "metadata": {},
   "outputs": [
    {
     "name": "stderr",
     "output_type": "stream",
     "text": [
      "2024-10-07 16:57:24.877 Thread 'MainThread': missing ScriptRunContext! This warning can be ignored when running in bare mode.\n",
      "2024-10-07 16:57:24.878 Thread 'MainThread': missing ScriptRunContext! This warning can be ignored when running in bare mode.\n",
      "2024-10-07 16:57:24.907 Thread 'MainThread': missing ScriptRunContext! This warning can be ignored when running in bare mode.\n",
      "2024-10-07 16:57:24.908 Thread 'MainThread': missing ScriptRunContext! This warning can be ignored when running in bare mode.\n",
      "2024-10-07 16:57:24.908 Thread 'MainThread': missing ScriptRunContext! This warning can be ignored when running in bare mode.\n"
     ]
    },
    {
     "data": {
      "text/plain": [
       "DeltaGenerator()"
      ]
     },
     "execution_count": 36,
     "metadata": {},
     "output_type": "execute_result"
    }
   ],
   "source": [
    "# A header for the chart\n",
    "st.header(\"The Average Vehicle Price by Model Year\")\n",
    "# Line plot for average price per model year\n",
    "avg_price_per_year = df.groupby('model_year')['price'].mean().reset_index()\n",
    "fig = px.line(avg_price_per_year, x='model_year', y='price', labels={'model_year': 'Model Year', 'price': 'Average Price'})\n",
    "fig.update_xaxes(tickangle=45)\n",
    "st.plotly_chart(fig)\n",
    "# This compares the price of a vehicle to the model year of that vehicle"
   ]
  },
  {
   "cell_type": "code",
   "execution_count": 45,
   "metadata": {},
   "outputs": [
    {
     "name": "stderr",
     "output_type": "stream",
     "text": [
      "2024-10-07 17:22:13.048 Thread 'MainThread': missing ScriptRunContext! This warning can be ignored when running in bare mode.\n",
      "2024-10-07 17:22:13.048 Thread 'MainThread': missing ScriptRunContext! This warning can be ignored when running in bare mode.\n",
      "2024-10-07 17:22:13.111 Thread 'MainThread': missing ScriptRunContext! This warning can be ignored when running in bare mode.\n",
      "2024-10-07 17:22:13.113 Thread 'MainThread': missing ScriptRunContext! This warning can be ignored when running in bare mode.\n",
      "2024-10-07 17:22:13.113 Thread 'MainThread': missing ScriptRunContext! This warning can be ignored when running in bare mode.\n"
     ]
    }
   ],
   "source": [
    "st.header(\"The Vehicle Condition by Model Year\")\n",
    "# Histogram for vehicle condition by model year (Plotly)\n",
    "fig2 = px.histogram(df, x='model_year', color='condition', barmode='overlay',\n",
    "                    histnorm='probability density')\n",
    "\n",
    "st.plotly_chart(fig2)\n",
    "\n",
    "# Get unique manufacturers for the dropdown\n",
    "unique_models = df['model'].unique()\n",
    "\n",
    "# Creating the histogram traces for each manufacturer\n",
    "traces = []\n",
    "for m in unique_models:\n",
    "    filtered_df = df[df['model'] == m]\n",
    "    traces.append(go.Histogram(\n",
    "        x=filtered_df['price'],\n",
    "        name=m,\n",
    "        opacity=0.75,\n",
    "        histnorm='probability density',\n",
    "        visible=(m == unique_models[0])  # Show the first manufacturer by default\n",
    "    ))"
   ]
  },
  {
   "cell_type": "code",
   "execution_count": null,
   "metadata": {},
   "outputs": [],
   "source": [
    "# Create the figure\n",
    "fig = go.Figure(data=traces)\n",
    "st.header(\"Price Distribution by Manufacturer\")\n",
    "# Add dropdown buttons\n",
    "fig.update_layout(\n",
    "    xaxis_title='Price',\n",
    "    yaxis_title='Density',\n",
    "    barmode='overlay',\n",
    "    updatemenus=[\n",
    "        {\n",
    "            'buttons': [\n",
    "                {\n",
    "                    'label': m,\n",
    "                    'method': 'update',\n",
    "                    'args': [{'visible': [m == model for model in unique_models]}]\n",
    "                } for m in unique_models\n",
    "            ],\n",
    "            'direction': 'down',\n",
    "            'showactive': True,\n",
    "        }\n",
    "    ]\n",
    ")\n",
    "\n",
    "# Show the figure using Streamlit\n",
    "st.plotly_chart(fig)  "
   ]
  },
  {
   "cell_type": "code",
   "execution_count": null,
   "metadata": {},
   "outputs": [],
   "source": [
    "# Scatter plot for odometer vs price (Matplotlib)\n",
    "st.header(\"The Odometer and Days Listed vs Price\")\n",
    "fig = px.scatter(df, x='odometer', y='price', opacity=0.36, labels={'odometer': 'Odometer', 'price': 'Price'}) \n",
    "fig.update_xaxes(range=[0, 500000]) \n",
    "fig.update_yaxes(range=[0, 100000])\n",
    "# Create a checkbox for changing x-axis to 'days_listed'\n",
    "use_days_listed = st.checkbox('Change x-axis to Days Listed')\n",
    "\n",
    "# Set the x-axis label dynamically based on the checkbox state\n",
    "x_axis = 'days_listed' if use_days_listed else 'odometer'\n",
    "\n",
    "# Create the scatter plot with Plotly\n",
    "fig = px.scatter(df, x=x_axis, y='price', opacity=0.36, labels={x_axis: x_axis.capitalize(), 'price': 'Price'})\n",
    "\n",
    "# Update x-axis range based on the checkbox state\n",
    "if x_axis == 'odometer':\n",
    "    fig.update_xaxes(range=[0, 500000])  # For 'odometer'\n",
    "else:\n",
    "    fig.update_xaxes(range=[0, df['days_listed'].max()])  # For 'days_listed'\n",
    "\n",
    "# Update y-axis range (kept constant)\n",
    "fig.update_yaxes(range=[0, 100000])\n",
    "\n",
    "# Display the chart in Streamlit (the chart will dynamically update based on checkbox state)\n",
    "st.plotly_chart(fig)"
   ]
  }
 ],
 "metadata": {
  "kernelspec": {
   "display_name": "env",
   "language": "python",
   "name": "python3"
  },
  "language_info": {
   "codemirror_mode": {
    "name": "ipython",
    "version": 3
   },
   "file_extension": ".py",
   "mimetype": "text/x-python",
   "name": "python",
   "nbconvert_exporter": "python",
   "pygments_lexer": "ipython3",
   "version": "3.12.4"
  }
 },
 "nbformat": 4,
 "nbformat_minor": 2
}
